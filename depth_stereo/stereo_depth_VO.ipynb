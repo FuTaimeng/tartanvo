{
 "cells": [
  {
   "cell_type": "code",
   "execution_count": 3,
   "metadata": {},
   "outputs": [],
   "source": [
    "# Load point clouds from file or generate them\n",
    "import open3d as o3d\n",
    "import numpy as np\n",
    "\n",
    "from RGBD2PointCloud import RGBD2PtsCloud\n",
    "from tqdm import tqdm\n",
    "rgb2ptcs = RGBD2PtsCloud(0)"
   ]
  },
  {
   "cell_type": "code",
   "execution_count": 12,
   "metadata": {},
   "outputs": [],
   "source": [
    "sequence_length = 2176\n",
    "\n",
    "trans_est = np.zeros((sequence_length-1, 3))\n",
    "trans_est_norm = np.zeros(sequence_length-1)\n",
    "\n",
    "# for idx in range(sequence_length-1):\n",
    "for idx in tqdm(range(sequence_length-1)):\n",
    "    rgb2ptcs.frame = idx\n",
    "    pcd_dense0, _ = rgb2ptcs.convert6()\n",
    "    source = pcd_dense0\n",
    "\n",
    "\n",
    "    rgb2ptcs.frame = idx+1\n",
    "    pcd_dense1, _ = rgb2ptcs.convert6()\n",
    "    target = pcd_dense1\n",
    "\n",
    "    target.estimate_normals()\n",
    "\n",
    "    current_transformation = np.identity(4)\n",
    "\n",
    "    result_icp = o3d.pipelines.registration.registration_icp(\n",
    "    source, target, 0.02, current_transformation,\n",
    "    o3d.pipelines.registration.TransformationEstimationPointToPlane())\n",
    "\n",
    "    # print(result_icp)\n",
    "    # print(result_icp.transformation[:3,3])\n",
    "    # print(np.linalg.norm(result_icp.transformation[:3,3]))\n",
    "\n",
    "    # print(\"Result is:\", result_icp)\n",
    "\n",
    "    trans_est[idx] = result_icp.transformation[:3,3]\n",
    "    trans_est_norm[idx] = np.linalg.norm(result_icp.transformation[:3,3])\n",
    "\n"
   ]
  },
  {
   "cell_type": "code",
   "execution_count": null,
   "metadata": {},
   "outputs": [],
   "source": [
    "# save the trans_est and trans_est_norm to a file\n",
    "np.save('trans_est.npy',trans_est)\n",
    "np.save('trans_est_norm.npy',trans_est_norm)"
   ]
  },
  {
   "cell_type": "code",
   "execution_count": 11,
   "metadata": {},
   "outputs": [
    {
     "data": {
      "text/plain": [
       "array([0.14437977, 0.13975827])"
      ]
     },
     "execution_count": 11,
     "metadata": {},
     "output_type": "execute_result"
    }
   ],
   "source": [
    "data_path = '/home/data2/TartanAir/TartanAir_comb/abandonedfactory/Easy/P000/pose_left.txt'\n",
    "data_pose = np.loadtxt(data_path)\n",
    "data_pose.shape\n"
   ]
  },
  {
   "cell_type": "code",
   "execution_count": null,
   "metadata": {},
   "outputs": [],
   "source": [
    "import pypose as pp\n",
    "gt_trans = np.zeros((sequence_length-1, 3))\n",
    "gt_trans_norm = np.zeros(sequence_length-1)\n",
    "for idx in tqdm(range(sequence_length-1)):\n",
    "    pose0 = pp.SE3(data_pose[idx])\n",
    "    print(pose0)\n",
    "    pose1 = pp.SE3(data_pose[idx+1])\n",
    "    print(pose1)\n",
    "    diff = pose0.Inv() * pose1\n",
    "    print(diff.translation())\n",
    "    print(diff.translation().norm()) \n",
    "\n",
    "    gt_trans[idx] = diff.translation()\n",
    "    gt_trans_norm[idx] = diff.translation().norm()"
   ]
  },
  {
   "cell_type": "code",
   "execution_count": 6,
   "metadata": {},
   "outputs": [
    {
     "name": "stdout",
     "output_type": "stream",
     "text": [
      "1. Load two point clouds and show initial pose\n",
      "2. Point-to-plane ICP registration is applied on original point\n",
      "   clouds to refine the alignment. Distance threshold 0.02.\n",
      "RegistrationResult with fitness=9.656683e-01, inlier_rmse=3.939879e-03, and correspondence_set size of 200859\n",
      "Access transformation to get result.\n",
      "[ 0.13182905  0.03436155 -0.04781112]\n",
      "0.14437976555083598\n",
      "Result is: RegistrationResult with fitness=9.656683e-01, inlier_rmse=3.939879e-03, and correspondence_set size of 200859\n",
      "Access transformation to get result.\n"
     ]
    }
   ],
   "source": [
    "# examples/Python/Advanced/colored_pointcloud_registration.py\n",
    "\n",
    "import numpy as np\n",
    "import copy\n",
    "import open3d as o3d\n",
    "\n",
    "def draw_registration_result_original_color(source, target, transformation):\n",
    "    source_temp = copy.deepcopy(source)\n",
    "    source_temp.transform(transformation)\n",
    "    o3d.visualization.draw_geometries([source_temp, target])\n",
    "\n",
    "\n",
    "\n",
    "import matplotlib.pyplot as plt\n",
    "if __name__ == \"__main__\":\n",
    "\n",
    "    print(\"1. Load two point clouds and show initial pose\")\n",
    "    # source = o3d.io.read_point_cloud(\"../../TestData/ColoredICP/frag_115.ply\")\n",
    "    # target = o3d.io.read_point_cloud(\"../../TestData/ColoredICP/frag_116.ply\")\n",
    "\n",
    "    # draw initial alignment\n",
    "    current_transformation = np.identity(4)\n",
    "    # draw_registration_result_original_color(source, target,\n",
    "    #                                         current_transformation)\n",
    "    # plt.show()\n",
    "    \n",
    "    # point to plane ICP\n",
    "    current_transformation = np.identity(4)\n",
    "    print(\"2. Point-to-plane ICP registration is applied on original point\")\n",
    "    print(\"   clouds to refine the alignment. Distance threshold 0.02.\")\n",
    "    target.estimate_normals()\n",
    "    result_icp = o3d.pipelines.registration.registration_icp(\n",
    "        source, target, 0.02, current_transformation,\n",
    "        o3d.pipelines.registration.TransformationEstimationPointToPlane())\n",
    "    print(result_icp)\n",
    "    # draw_registration_result_original_color(source, target,\n",
    "    #                                         result_icp.transformation)\n",
    "\n",
    "    print(result_icp.transformation[:3,3])\n",
    "    # calculate norm of translation\n",
    "\n",
    "    print(np.linalg.norm(result_icp.transformation[:3,3]))\n",
    "\n",
    "    print(\"Result is:\", result_icp)"
   ]
  },
  {
   "cell_type": "code",
   "execution_count": 15,
   "metadata": {},
   "outputs": [
    {
     "name": "stdout",
     "output_type": "stream",
     "text": [
      "SE3Type LieTensor:\n",
      "LieTensor([-11.7905,  -4.7952,  -1.6670,  -0.0000,  -0.0000,   0.7702,   0.6378])\n",
      "SE3Type LieTensor:\n",
      "LieTensor([-1.1651e+01, -4.8155e+00, -1.6341e+00,  1.4239e-02, -1.0186e-02,\n",
      "            7.7710e-01,  6.2913e-01])\n",
      "tensor([-0.0459, -0.1329,  0.0329])\n",
      "tensor(0.1444)\n"
     ]
    }
   ],
   "source": [
    "import numpy as np\n",
    "import pypose as pp\n",
    "data = [\n",
    "    [-1.179049015045166016e+01, -4.795211315155029297e+00, -1.666950345039367676e+00, -0.000000000000000000e+00, -0.000000000000000000e+00, 7.702344059944152832e-01, 6.377608776092529297e-01],\n",
    "    [-1.165132999420166016e+01, -4.815492630004882812e+00, -1.634087443351745605e+00, 1.423883717507123947e-02, -1.018611807376146317e-02, 7.771025300025939941e-01, 6.291303634643554688e-01]\n",
    "]\n",
    "\n",
    "array_data = np.array(data)\n",
    "# print(array_data)\n",
    "\n",
    "pose0 = pp.SE3(array_data[0])\n",
    "print(pose0)\n",
    "pose1 = pp.SE3(array_data[1])\n",
    "print(pose1)\n",
    "diff = pose0.Inv() * pose1\n",
    "print(diff.translation())\n",
    "print(diff.translation().norm()) "
   ]
  },
  {
   "cell_type": "code",
   "execution_count": 17,
   "metadata": {},
   "outputs": [
    {
     "name": "stdout",
     "output_type": "stream",
     "text": [
      "tensor(3.6836e-05)\n"
     ]
    }
   ],
   "source": [
    "trans_err = diff.translation().norm() - np.linalg.norm(result_icp.transformation[:3,3])\n",
    "print(trans_err)"
   ]
  },
  {
   "cell_type": "code",
   "execution_count": 20,
   "metadata": {},
   "outputs": [
    {
     "data": {
      "text/plain": [
       "(2176, 7)"
      ]
     },
     "execution_count": 20,
     "metadata": {},
     "output_type": "execute_result"
    }
   ],
   "source": [
    "data_path = '/home/data2/TartanAir/TartanAir_comb/abandonedfactory/Easy/P000/pose_left.txt'\n",
    "data_pose = np.loadtxt(data_path)\n",
    "data_pose.shape\n"
   ]
  },
  {
   "cell_type": "code",
   "execution_count": null,
   "metadata": {},
   "outputs": [],
   "source": []
  }
 ],
 "metadata": {
  "kernelspec": {
   "display_name": "Python 3",
   "language": "python",
   "name": "python3"
  },
  "language_info": {
   "codemirror_mode": {
    "name": "ipython",
    "version": 3
   },
   "file_extension": ".py",
   "mimetype": "text/x-python",
   "name": "python",
   "nbconvert_exporter": "python",
   "pygments_lexer": "ipython3",
   "version": "3.8.15"
  },
  "orig_nbformat": 4
 },
 "nbformat": 4,
 "nbformat_minor": 2
}
