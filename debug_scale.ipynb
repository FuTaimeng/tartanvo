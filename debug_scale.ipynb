{
 "cells": [
  {
   "cell_type": "code",
   "execution_count": 1,
   "metadata": {},
   "outputs": [],
   "source": [
    "# load npy\n",
    "import numpy as np\n",
    "import matplotlib.pyplot as plt\n",
    "\n",
    "model = np.load('model.npy')\n",
    "data = np.load('data.npy')\n"
   ]
  },
  {
   "cell_type": "code",
   "execution_count": 31,
   "metadata": {},
   "outputs": [],
   "source": [
    "import pypose as pp\n",
    "def plot_trajctory(pose, arr_length=0.8, trajectory_length=3,title = '',feq = 2,plot_3d_pose = True,limit = 10.0,\n",
    "                   create_new_figure=True,fig=None):\n",
    "    # Plot the 3D pose\n",
    "    if create_new_figure:\n",
    "        fig = plt.figure(figsize=(8, 8))\n",
    "    ax = fig.add_subplot(111, projection='3d')\n",
    "        # Define the 3D pose (translation and rotation)\n",
    "    # arr_length = 0.8\n",
    "    for i in range(0,trajectory_length,feq):\n",
    "        if plot_3d_pose:\n",
    "            R = pp.SO3(pose[i,3:]).matrix().numpy()\n",
    "            translation = pose[i,:3]\n",
    "\n",
    "            x_axis = np.dot(R, np.array([1, 0, 0]))\n",
    "            y_axis = np.dot(R, np.array([0, 1, 0]))\n",
    "            z_axis = np.dot(R, np.array([0, 0, 1]))\n",
    "\n",
    "\n",
    "            ax.quiver(*translation, *x_axis, color='r', label='X-axis' , length=arr_length)\n",
    "            ax.quiver(*translation, *y_axis, color='g', label='Y-axis' , length=arr_length)\n",
    "            ax.quiver(*translation, *z_axis, color='b', label='Z-axis' , length=arr_length)\n",
    "            # ax.quiver(*(np.array([0, 0, 0])), *translation, color='k', label='Origin' , length=1)\n",
    "            ax.text(*translation, str(i)\n",
    "                    , color='k')\n",
    "\n",
    "        else:\n",
    "            try:\n",
    "                pose = pose.numpy()\n",
    "            except:\n",
    "                pass\n",
    "            ax.plot(pose[:trajectory_length,0], pose[:trajectory_length,1], pose[:trajectory_length,2], \n",
    "                    # color='k', \n",
    "                    label='Trajectory')\n",
    "    \n",
    "    ax.set_xlim([-limit, limit])\n",
    "    ax.set_ylim([-limit, limit])\n",
    "    ax.set_zlim([-limit, limit])\n",
    "    ax.set_xlabel('X')\n",
    "    ax.set_ylabel('Y')\n",
    "    ax.set_zlabel('Z')\n",
    "    # title\n",
    "    ax.set_title(title)"
   ]
  },
  {
   "cell_type": "code",
   "execution_count": 10,
   "metadata": {},
   "outputs": [
    {
     "data": {
      "text/plain": [
       "array([[-3.864, -3.878, -3.892, ..., -3.793, -3.787, -3.779],\n",
       "       [-3.299, -3.298, -3.298, ..., -3.456, -3.467, -3.476],\n",
       "       [ 1.111,  1.074,  1.037, ...,  1.231,  1.237,  1.244]])"
      ]
     },
     "execution_count": 10,
     "metadata": {},
     "output_type": "execute_result"
    }
   ],
   "source": [
    "model - model.mean(1).reshape(3,1)"
   ]
  },
  {
   "cell_type": "code",
   "execution_count": 5,
   "metadata": {},
   "outputs": [
    {
     "name": "stdout",
     "output_type": "stream",
     "text": [
      "3.515964319933332\n"
     ]
    }
   ],
   "source": [
    "\"\"\"Align two trajectories using the method of Horn (closed-form).\n",
    "\n",
    "Input:\n",
    "model -- first trajectory (3xn)\n",
    "data -- second trajectory (3xn)\n",
    "\n",
    "Output:\n",
    "rot -- rotation matrix (3x3)\n",
    "trans -- translation vector (3x1)\n",
    "trans_error -- translational error per point (1xn)\n",
    "\n",
    "\"\"\"\n",
    "calc_scale = True\n",
    "import numpy\n",
    "numpy.set_printoptions(precision=3,suppress=True)\n",
    "model_zerocentered = model - model.mean(1).reshape(3,1)\n",
    "data_zerocentered = data - data.mean(1).reshape(3,1)\n",
    "\n",
    "W = numpy.zeros( (3,3) )\n",
    "for column in range(model.shape[1]):\n",
    "    W += numpy.outer(model_zerocentered[:,column],data_zerocentered[:,column])\n",
    "U,d,Vh = numpy.linalg.linalg.svd(W.transpose())\n",
    "S = numpy.matrix(numpy.identity( 3 ))\n",
    "if(numpy.linalg.det(U) * numpy.linalg.det(Vh)<0):\n",
    "    S[2,2] = -1\n",
    "rot = U*S*Vh\n",
    "\n",
    "if calc_scale:\n",
    "    rotmodel = rot*model_zerocentered\n",
    "    dots = 0.0\n",
    "    norms = 0.0\n",
    "    for column in range(data_zerocentered.shape[1]):\n",
    "        dots += numpy.dot(data_zerocentered[:,column].transpose(),rotmodel[:,column])\n",
    "\n",
    "        # dot = numpy.linalg.norm(rotmodel[:,column])\n",
    "        # dots += dot * dot\n",
    "        \n",
    "        normi = numpy.linalg.norm(model_zerocentered[:,column])\n",
    "        norms += normi*normi\n",
    "    # s = float(dots/norms)  \n",
    "    s = float(norms/dots)\n",
    "else:\n",
    "    s = 1.0  \n",
    "print(s)"
   ]
  },
  {
   "cell_type": "code",
   "execution_count": 7,
   "metadata": {},
   "outputs": [
    {
     "data": {
      "text/plain": [
       "(3, 3637)"
      ]
     },
     "execution_count": 7,
     "metadata": {},
     "output_type": "execute_result"
    }
   ],
   "source": [
    "model_zerocentered.shape"
   ]
  },
  {
   "cell_type": "code",
   "execution_count": 15,
   "metadata": {},
   "outputs": [],
   "source": [
    "\n",
    "import matplotlib\n",
    "matplotlib.use('WebAgg')\n",
    "\n"
   ]
  },
  {
   "cell_type": "code",
   "execution_count": 22,
   "metadata": {},
   "outputs": [],
   "source": [
    "\n",
    "rotmodel = np.array(rotmodel)\n"
   ]
  },
  {
   "cell_type": "code",
   "execution_count": 32,
   "metadata": {},
   "outputs": [],
   "source": [
    "plt.close('all')\n",
    "trajectory_length = model_zerocentered.shape[1]\n",
    "# fig = plt.figure(figsize=(8, 8))\n",
    "fig = None\n",
    "plot_trajctory(model_zerocentered.transpose(),trajectory_length=trajectory_length,plot_3d_pose=False,limit=10.0,\n",
    "               title='model_zerocentered',fig = fig)\n",
    "plot_trajctory(data_zerocentered.transpose(),trajectory_length=trajectory_length,plot_3d_pose=False,limit=10.0,\n",
    "               title='data_zerocentered',fig = fig)\n",
    "plot_trajctory(rotmodel.transpose(),trajectory_length=trajectory_length,plot_3d_pose=False,limit=10.0,\n",
    "               title='s*rot*model_zerocentered',fig = fig)\n",
    "plt.show()\n"
   ]
  },
  {
   "cell_type": "code",
   "execution_count": null,
   "metadata": {},
   "outputs": [
    {
     "data": {
      "text/plain": [
       "'/home/data2/euroc_raw/MH_04_difficult/mav0/cam0/data/1403638127345096960.png'"
      ]
     },
     "metadata": {},
     "output_type": "display_data"
    }
   ],
   "source": [
    "data_root + str(0) + \"/data/1403638127345096960.png\""
   ]
  }
 ],
 "metadata": {
  "kernelspec": {
   "display_name": "Python 3",
   "language": "python",
   "name": "python3"
  },
  "language_info": {
   "codemirror_mode": {
    "name": "ipython",
    "version": 3
   },
   "file_extension": ".py",
   "mimetype": "text/x-python",
   "name": "python",
   "nbconvert_exporter": "python",
   "pygments_lexer": "ipython3",
   "version": "3.8.15"
  },
  "orig_nbformat": 4
 },
 "nbformat": 4,
 "nbformat_minor": 2
}
